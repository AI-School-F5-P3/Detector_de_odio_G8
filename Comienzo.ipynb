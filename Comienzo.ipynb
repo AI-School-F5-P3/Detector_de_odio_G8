{
 "cells": [
  {
   "cell_type": "code",
   "execution_count": 56,
   "metadata": {},
   "outputs": [],
   "source": [
    "# [Celda 1] - Importación de librerías\n",
    "import pandas as pd\n",
    "import numpy as np\n",
    "from sklearn.model_selection import train_test_split\n",
    "from sklearn.feature_extraction.text import TfidfVectorizer\n",
    "from sklearn.svm import SVC\n",
    "from sklearn.metrics import classification_report, confusion_matrix\n",
    "import seaborn as sns\n",
    "import matplotlib.pyplot as plt"
   ]
  },
  {
   "cell_type": "code",
   "execution_count": 57,
   "metadata": {},
   "outputs": [
    {
     "name": "stdout",
     "output_type": "stream",
     "text": [
      "Primeras filas del dataset:\n"
     ]
    },
    {
     "data": {
      "text/html": [
       "<div>\n",
       "<style scoped>\n",
       "    .dataframe tbody tr th:only-of-type {\n",
       "        vertical-align: middle;\n",
       "    }\n",
       "\n",
       "    .dataframe tbody tr th {\n",
       "        vertical-align: top;\n",
       "    }\n",
       "\n",
       "    .dataframe thead th {\n",
       "        text-align: right;\n",
       "    }\n",
       "</style>\n",
       "<table border=\"1\" class=\"dataframe\">\n",
       "  <thead>\n",
       "    <tr style=\"text-align: right;\">\n",
       "      <th></th>\n",
       "      <th>CommentId</th>\n",
       "      <th>VideoId</th>\n",
       "      <th>Text</th>\n",
       "      <th>IsToxic</th>\n",
       "      <th>IsAbusive</th>\n",
       "      <th>IsThreat</th>\n",
       "      <th>IsProvocative</th>\n",
       "      <th>IsObscene</th>\n",
       "      <th>IsHatespeech</th>\n",
       "      <th>IsRacist</th>\n",
       "      <th>IsNationalist</th>\n",
       "      <th>IsSexist</th>\n",
       "      <th>IsHomophobic</th>\n",
       "      <th>IsReligiousHate</th>\n",
       "      <th>IsRadicalism</th>\n",
       "    </tr>\n",
       "  </thead>\n",
       "  <tbody>\n",
       "    <tr>\n",
       "      <th>0</th>\n",
       "      <td>Ugg2KwwX0V8-aXgCoAEC</td>\n",
       "      <td>04kJtp6pVXI</td>\n",
       "      <td>If only people would just take a step back and...</td>\n",
       "      <td>False</td>\n",
       "      <td>False</td>\n",
       "      <td>False</td>\n",
       "      <td>False</td>\n",
       "      <td>False</td>\n",
       "      <td>False</td>\n",
       "      <td>False</td>\n",
       "      <td>False</td>\n",
       "      <td>False</td>\n",
       "      <td>False</td>\n",
       "      <td>False</td>\n",
       "      <td>False</td>\n",
       "    </tr>\n",
       "    <tr>\n",
       "      <th>1</th>\n",
       "      <td>Ugg2s5AzSPioEXgCoAEC</td>\n",
       "      <td>04kJtp6pVXI</td>\n",
       "      <td>Law enforcement is not trained to shoot to app...</td>\n",
       "      <td>True</td>\n",
       "      <td>True</td>\n",
       "      <td>False</td>\n",
       "      <td>False</td>\n",
       "      <td>False</td>\n",
       "      <td>False</td>\n",
       "      <td>False</td>\n",
       "      <td>False</td>\n",
       "      <td>False</td>\n",
       "      <td>False</td>\n",
       "      <td>False</td>\n",
       "      <td>False</td>\n",
       "    </tr>\n",
       "    <tr>\n",
       "      <th>2</th>\n",
       "      <td>Ugg3dWTOxryFfHgCoAEC</td>\n",
       "      <td>04kJtp6pVXI</td>\n",
       "      <td>\\nDont you reckon them 'black lives matter' ba...</td>\n",
       "      <td>True</td>\n",
       "      <td>True</td>\n",
       "      <td>False</td>\n",
       "      <td>False</td>\n",
       "      <td>True</td>\n",
       "      <td>False</td>\n",
       "      <td>False</td>\n",
       "      <td>False</td>\n",
       "      <td>False</td>\n",
       "      <td>False</td>\n",
       "      <td>False</td>\n",
       "      <td>False</td>\n",
       "    </tr>\n",
       "    <tr>\n",
       "      <th>3</th>\n",
       "      <td>Ugg7Gd006w1MPngCoAEC</td>\n",
       "      <td>04kJtp6pVXI</td>\n",
       "      <td>There are a very large number of people who do...</td>\n",
       "      <td>False</td>\n",
       "      <td>False</td>\n",
       "      <td>False</td>\n",
       "      <td>False</td>\n",
       "      <td>False</td>\n",
       "      <td>False</td>\n",
       "      <td>False</td>\n",
       "      <td>False</td>\n",
       "      <td>False</td>\n",
       "      <td>False</td>\n",
       "      <td>False</td>\n",
       "      <td>False</td>\n",
       "    </tr>\n",
       "    <tr>\n",
       "      <th>4</th>\n",
       "      <td>Ugg8FfTbbNF8IngCoAEC</td>\n",
       "      <td>04kJtp6pVXI</td>\n",
       "      <td>The Arab dude is absolutely right, he should h...</td>\n",
       "      <td>False</td>\n",
       "      <td>False</td>\n",
       "      <td>False</td>\n",
       "      <td>False</td>\n",
       "      <td>False</td>\n",
       "      <td>False</td>\n",
       "      <td>False</td>\n",
       "      <td>False</td>\n",
       "      <td>False</td>\n",
       "      <td>False</td>\n",
       "      <td>False</td>\n",
       "      <td>False</td>\n",
       "    </tr>\n",
       "  </tbody>\n",
       "</table>\n",
       "</div>"
      ],
      "text/plain": [
       "              CommentId      VideoId  \\\n",
       "0  Ugg2KwwX0V8-aXgCoAEC  04kJtp6pVXI   \n",
       "1  Ugg2s5AzSPioEXgCoAEC  04kJtp6pVXI   \n",
       "2  Ugg3dWTOxryFfHgCoAEC  04kJtp6pVXI   \n",
       "3  Ugg7Gd006w1MPngCoAEC  04kJtp6pVXI   \n",
       "4  Ugg8FfTbbNF8IngCoAEC  04kJtp6pVXI   \n",
       "\n",
       "                                                Text  IsToxic  IsAbusive  \\\n",
       "0  If only people would just take a step back and...    False      False   \n",
       "1  Law enforcement is not trained to shoot to app...     True       True   \n",
       "2  \\nDont you reckon them 'black lives matter' ba...     True       True   \n",
       "3  There are a very large number of people who do...    False      False   \n",
       "4  The Arab dude is absolutely right, he should h...    False      False   \n",
       "\n",
       "   IsThreat  IsProvocative  IsObscene  IsHatespeech  IsRacist  IsNationalist  \\\n",
       "0     False          False      False         False     False          False   \n",
       "1     False          False      False         False     False          False   \n",
       "2     False          False       True         False     False          False   \n",
       "3     False          False      False         False     False          False   \n",
       "4     False          False      False         False     False          False   \n",
       "\n",
       "   IsSexist  IsHomophobic  IsReligiousHate  IsRadicalism  \n",
       "0     False         False            False         False  \n",
       "1     False         False            False         False  \n",
       "2     False         False            False         False  \n",
       "3     False         False            False         False  \n",
       "4     False         False            False         False  "
      ]
     },
     "metadata": {},
     "output_type": "display_data"
    },
    {
     "name": "stdout",
     "output_type": "stream",
     "text": [
      "\n",
      "Información del dataset:\n",
      "<class 'pandas.core.frame.DataFrame'>\n",
      "RangeIndex: 1000 entries, 0 to 999\n",
      "Data columns (total 15 columns):\n",
      " #   Column           Non-Null Count  Dtype \n",
      "---  ------           --------------  ----- \n",
      " 0   CommentId        1000 non-null   object\n",
      " 1   VideoId          1000 non-null   object\n",
      " 2   Text             1000 non-null   object\n",
      " 3   IsToxic          1000 non-null   bool  \n",
      " 4   IsAbusive        1000 non-null   bool  \n",
      " 5   IsThreat         1000 non-null   bool  \n",
      " 6   IsProvocative    1000 non-null   bool  \n",
      " 7   IsObscene        1000 non-null   bool  \n",
      " 8   IsHatespeech     1000 non-null   bool  \n",
      " 9   IsRacist         1000 non-null   bool  \n",
      " 10  IsNationalist    1000 non-null   bool  \n",
      " 11  IsSexist         1000 non-null   bool  \n",
      " 12  IsHomophobic     1000 non-null   bool  \n",
      " 13  IsReligiousHate  1000 non-null   bool  \n",
      " 14  IsRadicalism     1000 non-null   bool  \n",
      "dtypes: bool(12), object(3)\n",
      "memory usage: 35.3+ KB\n"
     ]
    },
    {
     "data": {
      "text/plain": [
       "None"
      ]
     },
     "metadata": {},
     "output_type": "display_data"
    }
   ],
   "source": [
    "# [Celda 2] - Carga de datos\n",
    "# Leemos el dataset\n",
    "df = pd.read_csv('youtoxic_english_1000.csv')\n",
    "\n",
    "# Mostramos las primeras filas y la información del dataset\n",
    "print(\"Primeras filas del dataset:\")\n",
    "display(df.head())\n",
    "print(\"\\nInformación del dataset:\")\n",
    "display(df.info())"
   ]
  },
  {
   "cell_type": "code",
   "execution_count": 58,
   "metadata": {},
   "outputs": [
    {
     "name": "stdout",
     "output_type": "stream",
     "text": [
      "Valores nulos por columna antes de la limpieza:\n",
      "CommentId          0\n",
      "VideoId            0\n",
      "Text               0\n",
      "IsToxic            0\n",
      "IsAbusive          0\n",
      "IsThreat           0\n",
      "IsProvocative      0\n",
      "IsObscene          0\n",
      "IsHatespeech       0\n",
      "IsRacist           0\n",
      "IsNationalist      0\n",
      "IsSexist           0\n",
      "IsHomophobic       0\n",
      "IsReligiousHate    0\n",
      "IsRadicalism       0\n",
      "dtype: int64\n",
      "\n",
      "Total de filas antes de la limpieza: 1000\n",
      "\n",
      "Estadísticas finales:\n",
      "--------------------------------------------------\n",
      "Distribución de mensajes dañinos vs no dañinos:\n",
      "is_harmful\n",
      "False    0.538\n",
      "True     0.462\n",
      "Name: proportion, dtype: float64\n",
      "\n",
      "Distribución por tipo de contenido dañino:\n",
      "IsToxic: 462 casos (46.20%)\n",
      "IsAbusive: 353 casos (35.30%)\n",
      "IsThreat: 21 casos (2.10%)\n",
      "IsProvocative: 161 casos (16.10%)\n",
      "IsObscene: 100 casos (10.00%)\n",
      "IsHatespeech: 138 casos (13.80%)\n",
      "IsRacist: 125 casos (12.50%)\n",
      "IsNationalist: 8 casos (0.80%)\n",
      "IsSexist: 1 casos (0.10%)\n",
      "IsHomophobic: 0 casos (0.00%)\n",
      "IsReligiousHate: 12 casos (1.20%)\n",
      "IsRadicalism: 0 casos (0.00%)\n"
     ]
    }
   ],
   "source": [
    "# [Celda 3] - Preparación y limpieza de datos\n",
    "\n",
    "# Primero mostramos información sobre valores nulos en el dataset\n",
    "print(\"Valores nulos por columna antes de la limpieza:\")\n",
    "print(df.isnull().sum())\n",
    "print(\"\\nTotal de filas antes de la limpieza:\", len(df))\n",
    "\n",
    "# Definimos las columnas que indican contenido dañino\n",
    "toxic_columns = ['IsToxic', 'IsAbusive', 'IsThreat', 'IsProvocative', \n",
    "                'IsObscene', 'IsHatespeech', 'IsRacist', 'IsNationalist',\n",
    "                'IsSexist', 'IsHomophobic', 'IsReligiousHate', 'IsRadicalism']\n",
    "\n",
    "\n",
    "# Creamos una nueva columna que será True si cualquiera de las categorías es True\n",
    "df['is_harmful'] = df[toxic_columns].any(axis=1)\n",
    "\n",
    "# Preparamos X (textos) e y (etiquetas)\n",
    "X = df['Text']\n",
    "y = df['is_harmful']\n",
    "\n",
    "# Mostramos estadísticas finales\n",
    "print(\"\\nEstadísticas finales:\")\n",
    "print(\"-\" * 50)\n",
    "print(\"Distribución de mensajes dañinos vs no dañinos:\")\n",
    "print(y.value_counts(normalize=True))\n",
    "print(\"\\nDistribución por tipo de contenido dañino:\")\n",
    "for col in toxic_columns:\n",
    "    positivos = df[col].sum()\n",
    "    porcentaje = (positivos / len(df)) * 100\n",
    "    print(f\"{col}: {positivos} casos ({porcentaje:.2f}%)\")"
   ]
  },
  {
   "cell_type": "code",
   "execution_count": 59,
   "metadata": {},
   "outputs": [
    {
     "name": "stdout",
     "output_type": "stream",
     "text": [
      "Tamaño del conjunto de entrenamiento: 800\n",
      "Tamaño del conjunto de prueba: 200\n"
     ]
    }
   ],
   "source": [
    "# [Celda 4] - División de datos\n",
    "# Dividimos los datos en conjuntos de entrenamiento y prueba\n",
    "X_train, X_test, y_train, y_test = train_test_split(\n",
    "    X, y, \n",
    "    test_size=0.2,\n",
    "    random_state=42,\n",
    "    stratify=y  # Mantenemos la proporción de clases\n",
    ")\n",
    "\n",
    "print(\"Tamaño del conjunto de entrenamiento:\", len(X_train))\n",
    "print(\"Tamaño del conjunto de prueba:\", len(X_test))"
   ]
  },
  {
   "cell_type": "code",
   "execution_count": 60,
   "metadata": {},
   "outputs": [
    {
     "name": "stdout",
     "output_type": "stream",
     "text": [
      "Dimensiones de la matriz de características de entrenamiento: (800, 1496)\n"
     ]
    }
   ],
   "source": [
    "# [Celda 5] - Vectorización del texto\n",
    "# Convertimos el texto a una matriz de características TF-IDF\n",
    "vectorizer = TfidfVectorizer(\n",
    "    max_features=5000,  # Limitamos el número de características\n",
    "    min_df=2,          # Ignoramos términos que aparecen en menos de 2 documentos\n",
    "    stop_words='english'  # Removemos stopwords en inglés\n",
    ")\n",
    "\n",
    "# Transformamos los textos\n",
    "X_train_vectorized = vectorizer.fit_transform(X_train)\n",
    "X_test_vectorized = vectorizer.transform(X_test)\n",
    "\n",
    "print(\"Dimensiones de la matriz de características de entrenamiento:\", X_train_vectorized.shape)"
   ]
  },
  {
   "cell_type": "code",
   "execution_count": 61,
   "metadata": {},
   "outputs": [
    {
     "name": "stdout",
     "output_type": "stream",
     "text": [
      "Modelo entrenado correctamente!\n"
     ]
    }
   ],
   "source": [
    "# [Celda 6] - Entrenamiento del modelo SVM\n",
    "# Creamos y entrenamos el modelo\n",
    "svm_model = SVC(\n",
    "    kernel='linear',     # Kernel lineal para mejor interpretabilidad\n",
    "    probability=True,    # Habilitamos probabilidades\n",
    "    random_state=42,     # Para reproducibilidad\n",
    "    class_weight='balanced'  # Maneja el desbalanceo de clases\n",
    ")\n",
    "\n",
    "# Entrenamos el modelo\n",
    "svm_model.fit(X_train_vectorized, y_train)\n",
    "\n",
    "print(\"Modelo entrenado correctamente!\")"
   ]
  },
  {
   "cell_type": "code",
   "execution_count": 62,
   "metadata": {},
   "outputs": [
    {
     "name": "stdout",
     "output_type": "stream",
     "text": [
      "Reporte de clasificación:\n",
      "              precision    recall  f1-score   support\n",
      "\n",
      "       False       0.70      0.78      0.74       108\n",
      "        True       0.70      0.61      0.65        92\n",
      "\n",
      "    accuracy                           0.70       200\n",
      "   macro avg       0.70      0.69      0.69       200\n",
      "weighted avg       0.70      0.70      0.70       200\n",
      "\n"
     ]
    },
    {
     "data": {
      "image/png": "[encoded data removed]",
      "text/plain": [
       "<Figure size 800x600 with 2 Axes>"
      ]
     },
     "metadata": {},
     "output_type": "display_data"
    }
   ],
   "source": [
    "# [Celda 7] - Evaluación del modelo\n",
    "# Realizamos predicciones en el conjunto de prueba\n",
    "y_pred = svm_model.predict(X_test_vectorized)\n",
    "\n",
    "# Mostramos el reporte de clasificación\n",
    "print(\"Reporte de clasificación:\")\n",
    "print(classification_report(y_test, y_pred))\n",
    "\n",
    "# Visualizamos la matriz de confusión\n",
    "plt.figure(figsize=(8, 6))\n",
    "cm = confusion_matrix(y_test, y_pred)\n",
    "sns.heatmap(cm, annot=True, fmt='d', cmap='Blues')\n",
    "plt.title('Matriz de Confusión')\n",
    "plt.ylabel('Real')\n",
    "plt.xlabel('Predicho')\n",
    "plt.show()"
   ]
  },
  {
   "cell_type": "code",
   "execution_count": 63,
   "metadata": {},
   "outputs": [],
   "source": [
    "# [Celda 8 corregida] - Función para detectar nuevos mensajes\n",
    "def detect_hate_speech(text):\n",
    "    \"\"\"\n",
    "    Analiza un nuevo texto para detectar si contiene mensaje de odio\n",
    "    \"\"\"\n",
    "    # Vectorizamos el texto\n",
    "    text_vectorized = vectorizer.transform([text])\n",
    "    \n",
    "    # Obtenemos la predicción y la probabilidad\n",
    "    # No necesitamos envolver text_vectorized en otra lista\n",
    "    is_harmful = svm_model.predict(text_vectorized)[0]\n",
    "    prob_harmful = svm_model.predict_proba(text_vectorized)[0][1]\n",
    "    \n",
    "    return {\n",
    "        'texto': text,\n",
    "        'es_dañino': bool(is_harmful),\n",
    "        'probabilidad': float(prob_harmful)\n",
    "    }"
   ]
  },
  {
   "cell_type": "code",
   "execution_count": 64,
   "metadata": {},
   "outputs": [
    {
     "name": "stdout",
     "output_type": "stream",
     "text": [
      "\n",
      "Texto: This is a stupid message about kills\n",
      "Es dañino: True\n",
      "Probabilidad: 0.80\n",
      "\n",
      "Texto: I love spending time with my family\n",
      "Es dañino: False\n",
      "Probabilidad: 0.15\n"
     ]
    }
   ],
   "source": [
    "# [Celda 9 corregida] - Ejemplo de uso\n",
    "# Probamos el modelo con algunos ejemplos\n",
    "textos_prueba = [\n",
    "    \"This is a stupid message about kills\",\n",
    "    \"I love spending time with my family\"\n",
    "]\n",
    "\n",
    "for texto in textos_prueba:\n",
    "    resultado = detect_hate_speech(texto)\n",
    "    print(f\"\\nTexto: {resultado['texto']}\")\n",
    "    print(f\"Es dañino: {resultado['es_dañino']}\")\n",
    "    print(f\"Probabilidad: {resultado['probabilidad']:.2f}\")"
   ]
  }
 ],
 "metadata": {
  "kernelspec": {
   "display_name": "Python 3",
   "language": "python",
   "name": "python3"
  },
  "language_info": {
   "codemirror_mode": {
    "name": "ipython",
    "version": 3
   },
   "file_extension": ".py",
   "mimetype": "text/x-python",
   "name": "python",
   "nbconvert_exporter": "python",
   "pygments_lexer": "ipython3",
   "version": "3.12.7"
  }
 },
 "nbformat": 4,
 "nbformat_minor": 2
}
