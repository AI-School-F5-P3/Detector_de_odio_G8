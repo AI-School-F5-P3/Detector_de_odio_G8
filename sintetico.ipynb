{
 "cells": [
  {
   "cell_type": "code",
   "execution_count": null,
   "metadata": {},
   "outputs": [],
   "source": [
    "df = pd.read_csv('youtoxic_english_1000.csv')\n",
    "\n",
    "\n",
    "df = df.drop(columns=['CommentId', 'VideoId', 'IsSexist', 'IsHomophobic', 'IsRadicalism'])\n",
    "\n",
    "toxic_columns = ['IsToxic', 'IsAbusive', 'IsThreat', 'IsProvocative', \n",
    "                'IsObscene', 'IsHatespeech', 'IsRacist', 'IsNationalist',\n",
    "                'IsReligiousHate']\n",
    "\n",
    "# Convertir los valores \"TRUE\"/\"FALSE\" a 1/0 en las columnas tóxicas (si es necesario)\n",
    "df[toxic_columns] = df[toxic_columns].replace({'TRUE': 1, 'FALSE': 0})\n",
    "\n",
    "# Creamos una nueva columna que será 1 si cualquiera de las categorías es 1\n",
    "df['is_harmful'] = df[toxic_columns].any(axis=1).astype(int)\n",
    "\n",
    "# Preparamos X (textos) e y (etiquetas)\n",
    "X = df['Text']\n",
    "y = df['is_harmful']\n",
    "\n",
    "X_train, X_test, y_train, y_test = train_test_split(\n",
    "    X, y, \n",
    "    test_size=0.15,\n",
    "    random_state=42,\n",
    "    stratify=y  # Mantenemos la proporción de clases\n",
    ")"
   ]
  }
 ],
 "metadata": {
  "language_info": {
   "name": "python"
  }
 },
 "nbformat": 4,
 "nbformat_minor": 2
}
